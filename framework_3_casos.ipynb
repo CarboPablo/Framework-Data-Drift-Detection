{
 "cells": [
  {
   "cell_type": "code",
   "execution_count": 1,
   "id": "d9dc3b44",
   "metadata": {},
   "outputs": [],
   "source": [
    "import nannyml as nml\n",
    "import pandas as pd\n",
    "import numpy as np\n",
    "from IPython.display import display\n",
    "from IPython.display import Image\n",
    "import random\n",
    "import matplotlib.pyplot as plt\n",
    "from datetime import datetime, timedelta\n",
    "from scipy import stats\n",
    "import sys\n",
    "import scipy.stats as stats\n",
    "from sklearn.neighbors import kneighbors_graph\n",
    "from scipy.sparse.csgraph import minimum_spanning_tree"
   ]
  },
  {
   "cell_type": "markdown",
   "id": "613a592e",
   "metadata": {},
   "source": [
    "# Carga de dataframe de referencia y analisis"
   ]
  },
  {
   "cell_type": "code",
   "execution_count": 2,
   "id": "439f5386",
   "metadata": {},
   "outputs": [],
   "source": [
    "analysis = pd.read_csv('pack_datos_analisis.csv')\n",
    "reference = pd.read_csv('pack_datos_referencia.csv')\n",
    "analysis = analysis.drop(['Unnamed: 0'], axis=1)\n",
    "reference = reference.drop(['Unnamed: 0'], axis=1)\n",
    "\n",
    "\n",
    "\n",
    "\n",
    "analysis = analysis.drop(['Hijos'], axis=1)\n",
    "reference = reference.drop(['Nivel de estudios'], axis=1)\n",
    "reference = reference.drop(['Hijos'], axis=1)\n",
    "analysis = analysis.drop(['Nivel de estudios'], axis=1)"
   ]
  },
  {
   "cell_type": "markdown",
   "id": "9173206c",
   "metadata": {},
   "source": [
    "# Rellenar información sobre el dataframe\n",
    "En cada casilla de la lista, rellena con un\n",
    "1 -> Si la variable es numerica/cuantitativa/continua\n",
    "2 -> Si la variable es \n",
    "categorica o binaria.\n",
    "Escoge el número de datahunks en los que deseas partir tu dataframe de analisis"
   ]
  },
  {
   "cell_type": "code",
   "execution_count": 3,
   "id": "40d04f4a",
   "metadata": {},
   "outputs": [
    {
     "name": "stdout",
     "output_type": "stream",
     "text": [
      "EL número de observaciones por datachunk será de 2500\n"
     ]
    }
   ],
   "source": [
    "lista_tipos_de_datos = [1,1]\n",
    "ndc = 2\n",
    "n_observaciones_dc = len(analysis)/ndc\n",
    "n_observaciones_dc = int(n_observaciones_dc)\n",
    "print('EL número de observaciones por datachunk será de',n_observaciones_dc)"
   ]
  },
  {
   "cell_type": "markdown",
   "id": "4f1f3698",
   "metadata": {},
   "source": [
    "# Aqui acaba ya la interacción, todo esto ya es automatico"
   ]
  },
  {
   "cell_type": "code",
   "execution_count": 4,
   "id": "fc75386a",
   "metadata": {},
   "outputs": [
    {
     "name": "stdout",
     "output_type": "stream",
     "text": [
      "Se usará K-S para la detección univariante y WW para a multivariante\n"
     ]
    }
   ],
   "source": [
    "var_num = 0\n",
    "var_cat = 0\n",
    "metadata_flag = 0\n",
    "case_flag = 0\n",
    "\n",
    "for i in range(len(lista_tipos_de_datos)):\n",
    "    if lista_tipos_de_datos[i] == 1:\n",
    "        var_num = var_num +1\n",
    "    if lista_tipos_de_datos[i] == 2:\n",
    "        var_cat = var_cat +1\n",
    "        \n",
    "    \n",
    "if var_cat > 0: \n",
    "    print(\"Se usará K-S para la detección univariante, Chi square para categoricas y PCA error para la multivariante\")\n",
    "    metadata_flag = 1\n",
    "    case_flag = 1\n",
    "    \n",
    "    \n",
    "elif var_cat == 0 : \n",
    "    print(\"Se usará K-S para la detección univariante y WW para a multivariante\")\n",
    "    case_flag = 2\n",
    "\n",
    "        \n"
   ]
  },
  {
   "cell_type": "code",
   "execution_count": 5,
   "id": "c031e721",
   "metadata": {},
   "outputs": [],
   "source": [
    "if metadata_flag == 1: \n",
    "\n",
    "    #Columna de timestamp\n",
    "    time_str_ref = '23/2/2000 11:12:22.234513'\n",
    "    date_format_str = '%d/%m/%Y %H:%M:%S.%f'\n",
    "    fecha_a_aumentar_reference = datetime.strptime(time_str_ref, date_format_str)\n",
    "    lista_fechas_ref = []\n",
    "    \n",
    "    for i in range (len(reference)):\n",
    "        fecha_a_aumentar_reference  = fecha_a_aumentar_reference +timedelta(minutes=5)\n",
    "        lista_fechas_ref.append(fecha_a_aumentar_reference)\n",
    "    \n",
    "    reference['timestamp'] = lista_fechas_ref\n",
    "    reference['timestamp'] = reference['timestamp'].astype(object)\n",
    "    \n",
    "    time_str_anal = '23/2/2020 11:12:22.234513'\n",
    "    date_format_str = '%d/%m/%Y %H:%M:%S.%f'\n",
    "    fecha_a_aumentar_analysis = datetime.strptime(time_str_anal, date_format_str)\n",
    "    lista_fechas_anal = []\n",
    "    \n",
    "    for i in range (len(analysis)):\n",
    "        fecha_a_aumentar_analysis  = fecha_a_aumentar_analysis +timedelta(minutes=5)\n",
    "        lista_fechas_anal.append(fecha_a_aumentar_analysis)\n",
    "        \n",
    "    analysis['timestamp'] = lista_fechas_anal\n",
    "    analysis['timestamp'] = analysis['timestamp'].astype(object)\n",
    "    \n",
    "    #Columna de y_pred, y_pred_proba y actual\n",
    "    analysis['y_pred_proba'] = np.zeros(len(analysis))\n",
    "    reference['y_pred_proba'] = np.zeros(len(reference))\n",
    "    analysis['y_pred'] = np.zeros(len(analysis))\n",
    "    reference['y_pred'] = np.zeros(len(reference))\n",
    "    reference['actual']= np.zeros(len(reference))\n",
    "    analysis['partition'] = 'analysis'\n",
    "    reference['partition'] = 'reference'\n",
    "\n",
    "    \n",
    "\n",
    "    "
   ]
  },
  {
   "cell_type": "markdown",
   "id": "5a6bcf60",
   "metadata": {},
   "source": [
    "Defino algunas funciones:"
   ]
  },
  {
   "cell_type": "code",
   "execution_count": 6,
   "id": "1a404ada",
   "metadata": {},
   "outputs": [],
   "source": [
    "def mst_edges(V, k):\n",
    "    \"\"\"\n",
    "    Construct the approximate minimum spanning tree from vectors V\n",
    "    :param: V: 2D array, sequence of vectors\n",
    "    :param: k: int the number of neighbor to consider for each vector\n",
    "    :return: V ndarray of edges forming the MST\n",
    "    \"\"\"\n",
    "\n",
    "    # k = len(X)-1 gives the exact MST\n",
    "    k = min(len(V) - 1, k)\n",
    "\n",
    "    # generate a sparse graph using the k nearest neighbors of each point\n",
    "    G = kneighbors_graph(V, n_neighbors=k, mode='distance')\n",
    "\n",
    "    # Compute the minimum spanning tree of this graph\n",
    "    full_tree = minimum_spanning_tree(G, overwrite=True)\n",
    "\n",
    "    return np.array(full_tree.nonzero()).T\n",
    "\n",
    "def ww_test(X, Y, k=10):\n",
    "    \"\"\"\n",
    "    Multi-dimensional Wald-Wolfowitz test\n",
    "    :param X: multivariate sample X as a numpy ndarray\n",
    "    :param Y: multivariate sample Y as a numpy ndarray\n",
    "    :param k: number of neighbors to consider for each vector\n",
    "    :return: W the WW test statistic, R the number of runs\n",
    "    \"\"\"\n",
    "    m, n = len(X), len(Y)\n",
    "    N = m + n\n",
    "\n",
    "    XY = np.concatenate([X, Y]).astype(float)\n",
    "\n",
    "    # XY += np.random.normal(0, noise_scale, XY.shape)\n",
    "\n",
    "    edges = mst_edges(XY, k)\n",
    "\n",
    "    labels = np.array([0] * m + [1] * n)\n",
    "\n",
    "    c = labels[edges]\n",
    "    runs_edges = edges[c[:, 0] == c[:, 1]]\n",
    "\n",
    "    # number of runs is the total number of observations minus edges within each run\n",
    "    R = N - len(runs_edges)\n",
    "\n",
    "    # expected value of R\n",
    "    e_R = ((2.0 * m * n) / N) + 1\n",
    "\n",
    "    # variance of R is _numer/_denom\n",
    "    _numer = 2 * m * n * (2 * m * n - N)\n",
    "    _denom = N ** 2 * (N - 1)\n",
    "\n",
    "    # see Eq. 1 in Friedman 1979\n",
    "    # W approaches a standard normal distribution\n",
    "    W = (R - e_R) / np.sqrt(_numer/_denom)\n",
    "\n",
    "    return W, R\n"
   ]
  },
  {
   "cell_type": "code",
   "execution_count": 7,
   "id": "d6055a25",
   "metadata": {},
   "outputs": [],
   "source": [
    "SIGNIFICANCE = 0.05"
   ]
  },
  {
   "cell_type": "code",
   "execution_count": 8,
   "id": "aea98da5",
   "metadata": {},
   "outputs": [],
   "source": [
    "def multivariante_ww(ref,anal):\n",
    "    #X = ref.to_numpy()\n",
    "    \n",
    "    \n",
    "    valores_ww = np.zeros(ndc)\n",
    "    \n",
    "    for i in range(ndc):\n",
    "        #print(i)\n",
    "        Y = anal.iloc[n_observaciones_dc*i:n_observaciones_dc*(i+1),:].to_numpy()\n",
    "        X = ref.iloc[n_observaciones_dc*i:n_observaciones_dc*(i+1),:].to_numpy()\n",
    "        #print(Y)\n",
    "        #print('-------------------------')\n",
    "        if __name__ == '__main__':\n",
    "            if len(sys.argv) != 3:\n",
    "                print('Usage: $ python runs_test.py [X] [Y]')\n",
    "                sys.exit(1)\n",
    "\n",
    "        W, R = ww_test(X, Y)\n",
    "        valores_ww[i] = stats.norm.cdf(W)  # one sided test\n",
    "        \n",
    "    \n",
    "    return valores_ww\n"
   ]
  },
  {
   "cell_type": "code",
   "execution_count": 9,
   "id": "0a1d2bef",
   "metadata": {},
   "outputs": [],
   "source": [
    "if metadata_flag == 1 and case_flag == 1:\n",
    "    #----------------- UNIVARIANTE ----------------------\n",
    "    metadata = nml.extract_metadata(data = reference, model_name='wfh_predictor', model_type='classification_binary')\n",
    "    metadata.target_column_name = 'actual'\n",
    "\n",
    "\n",
    "    univariate_calculator = nml.UnivariateStatisticalDriftCalculator(model_metadata=metadata, chunk_size=n_observaciones_dc)\n",
    "    univariate_calculator = univariate_calculator.fit(reference_data=reference)\n",
    "\n",
    "    data = pd.concat([reference, analysis], ignore_index=True)\n",
    "    univariate_results = univariate_calculator.calculate(data=data)\n",
    "    \n",
    "    info_dd = pd.DataFrame()\n",
    "    info_dd =univariate_results.data\n",
    "    \n",
    "    # ----------PCA error reconstraction-------------\n",
    "    \n",
    "    rcerror_calculator = nml.DataReconstructionDriftCalculator(model_metadata=metadata, chunk_size=n_observaciones_dc)\n",
    "    rcerror_calculator = rcerror_calculator.fit(reference_data=reference)\n",
    "    # let's see RC error statistics for all available data\n",
    "    data = pd.concat([reference, analysis], ignore_index=True)\n",
    "    rcerror_results = rcerror_calculator.calculate(data=data)\n",
    "\n",
    "    \n",
    "    from sklearn.impute import SimpleImputer\n",
    "    # Let's initialize the object that will perform Data Reconstruction with PCA\n",
    "    rcerror_calculator = nml.DataReconstructionDriftCalculator(\n",
    "        model_metadata=metadata,\n",
    "        chunk_size=n_observaciones_dc,\n",
    "        imputer_categorical=SimpleImputer(strategy='constant', fill_value='missing'),\n",
    "        imputer_continuous=SimpleImputer(strategy='median')\n",
    "    )\n",
    "    # NannyML compares drift versus the full reference dataset.\n",
    "    rcerror_calculator.fit(reference_data=reference)\n",
    "    # let's see RC error statistics for all available data\n",
    "    rcerror_results = rcerror_calculator.calculate(data=data)\n",
    "    \n",
    "    info_dd_m = rcerror_results.data\n",
    "\n",
    "    valores_er = info_dd_m[\"reconstruction_error\"].to_numpy()\n",
    "    upper_bound= info_dd_m[\"upper_threshold\"].to_numpy()\n",
    "    lower_bound = info_dd_m[\"lower_threshold\"].to_numpy()\n",
    "\n",
    "\n"
   ]
  },
  {
   "cell_type": "code",
   "execution_count": 10,
   "id": "ab8e6f44",
   "metadata": {},
   "outputs": [],
   "source": [
    "def ks(ref,anal,dd_univariate):\n",
    "   \n",
    "    p_value = 0.05\n",
    "    j = 0\n",
    "    if j ==0:\n",
    "        dd_uni = dd_univariate\n",
    "    \n",
    "    for col in anal:\n",
    "        \n",
    "        valores_dd = np.zeros(ndc)\n",
    "        #se ejecuta por cada columna\n",
    "        \n",
    "        \n",
    "        for i in range(ndc):\n",
    "            \n",
    "            test = stats.ks_2samp(ref.iloc[:,j], anal.iloc[n_observaciones_dc*i:n_observaciones_dc*(i+1),j])\n",
    "\n",
    "            valores_dd[i] = test[1]\n",
    "            \n",
    "            \n",
    "        \n",
    "        \n",
    "        dd_uni.iloc[:,j] = valores_dd\n",
    "        j = j+1\n",
    "            \n",
    "    \n",
    "    \n",
    "    return dd_uni"
   ]
  },
  {
   "cell_type": "markdown",
   "id": "1de1d7dc",
   "metadata": {},
   "source": [
    "# Operaciones de todos los casos"
   ]
  },
  {
   "cell_type": "code",
   "execution_count": 11,
   "id": "172abf13",
   "metadata": {},
   "outputs": [],
   "source": [
    "# Estos pandas son auxiliares, mas adelante veré si se me son necesarios\n",
    "\n",
    "dd_univariate = pd.DataFrame()\n",
    "dd_multivariante = pd.DataFrame()\n",
    "analisis = pd.DataFrame()\n",
    "for col in analysis:\n",
    "    dd_univariate[col]=np.zeros(ndc)\n",
    "    \n",
    "dd_multivariante_ww = np.zeros(ndc)"
   ]
  },
  {
   "cell_type": "markdown",
   "id": "2f70d946",
   "metadata": {},
   "source": [
    "Caso 1"
   ]
  },
  {
   "cell_type": "code",
   "execution_count": 12,
   "id": "b69973f4",
   "metadata": {},
   "outputs": [],
   "source": [
    "if case_flag ==1:\n",
    "    #UNIVARIANTE\n",
    "    \n",
    "    pandas_aux = pd.DataFrame()\n",
    "    for col in info_dd:\n",
    "        string = col\n",
    "        if '_p_value' in string:\n",
    "            pandas_aux[col] = info_dd[col]\n",
    "\n",
    "\n",
    "    \n",
    "    for col in pandas_aux:\n",
    "        string = col\n",
    "        if 'y_pred_proba_p_value' in string:\n",
    "            pandas_aux = pandas_aux.drop([col], axis=1)\n",
    "    \n",
    "    \n",
    "    \n",
    "    #MULTIVARIANTE\n",
    "    pandas_m_aux = pd.DataFrame()\n",
    "    \n",
    "\n",
    "    for col in info_dd_m:\n",
    "        string = col\n",
    "        if 'reconstruction_error' in string:\n",
    "            pandas_m_aux[col] = info_dd_m[col]\n",
    "\n",
    "        if 'lower_threshold' in string:\n",
    "            pandas_m_aux[col] = info_dd_m[col]\n",
    "\n",
    "        if 'upper_threshold' in string:\n",
    "            pandas_m_aux[col] = info_dd_m[col]\n",
    "    analisis = pandas_aux\n",
    "    auxaux = pd.DataFrame()\n",
    "    auxaux['reconstruction_error'] = pandas_m_aux['reconstruction_error']\n",
    "    analisis = pd.concat([analisis, auxaux],axis = 1)\n",
    "    vector_up = pandas_m_aux['upper_threshold'].to_numpy()\n",
    "    vector_down = pandas_m_aux['lower_threshold'].to_numpy()\n",
    "    \n",
    "    \n",
    "    \n",
    "   "
   ]
  },
  {
   "cell_type": "markdown",
   "id": "4f401720",
   "metadata": {},
   "source": [
    "Caso 2"
   ]
  },
  {
   "cell_type": "code",
   "execution_count": 13,
   "id": "476da54c",
   "metadata": {},
   "outputs": [],
   "source": [
    "if case_flag == 2:\n",
    "    \n",
    "    dd_univariate = ks(reference,analysis,dd_univariate)\n",
    "    dd_multivariante_ww = multivariante_ww(reference,analysis)\n",
    "    dd_multivariante['Multivariante'] = dd_multivariante_ww\n",
    "    analisis = pd.concat([dd_univariate, dd_multivariante],axis = 1)\n"
   ]
  },
  {
   "cell_type": "markdown",
   "id": "d68add61",
   "metadata": {},
   "source": [
    "# REPRESENTACIÓN"
   ]
  },
  {
   "cell_type": "markdown",
   "id": "13ae47f3",
   "metadata": {},
   "source": [
    "Caso 1"
   ]
  },
  {
   "cell_type": "code",
   "execution_count": 14,
   "id": "8253786d",
   "metadata": {},
   "outputs": [],
   "source": [
    "if case_flag == 1:\n",
    "    tamaño = 5*(len(lista_tipos_de_datos)+1)\n",
    "    reduccion = len(analisis)\n",
    "    reduccion =reduccion //2 \n",
    "    \n",
    "    fig, axs = plt.subplots(len(lista_tipos_de_datos)+1, 1)\n",
    "    fig.set_figheight(tamaño)\n",
    "    fig.set_figwidth(12)\n",
    "    vector_p_valor = np.linspace(0.05,0.05,ndc)\n",
    "    vector_up = np.linspace(vector_up[0],vector_up[0],ndc)\n",
    "    vector_down = np.linspace(vector_down[0],vector_down[0],ndc)\n",
    "    \n",
    "    if len(analisis.iloc[reduccion:,:]) == len(vector_p_valor):\n",
    "        analisis = analisis.iloc[reduccion:,:]\n",
    "    else:\n",
    "        analisis.iloc[reduccion+1:,:]\n",
    "    \n",
    "\n",
    "    i = 0\n",
    "    x_points = np.linspace(1,ndc ,ndc )\n",
    "    limite = len(analisis.columns) \n",
    "    flag = 0\n",
    "    \n",
    "    for col in analisis:\n",
    "\n",
    "        if i != limite-1:\n",
    "            axs[i].plot(x_points,analisis[col].to_numpy(),color=np.random.rand(3,), linewidth=2, linestyle=\"-\",marker='s')\n",
    "            axs[i].set_title(col)\n",
    "            axs[i].plot(x_points,vector_p_valor,color=\"red\", linewidth=1, linestyle=\"--\")\n",
    "        else:\n",
    "            \n",
    "            axs[i].plot(x_points,analisis[col].to_numpy(),color=np.random.rand(3,), linewidth=2, linestyle=\"-\",marker='s')\n",
    "            axs[i].set_title(col)\n",
    "            axs[i].plot(x_points,vector_up,color=\"red\", linewidth=1, linestyle=\"--\")\n",
    "            axs[i].plot(x_points,vector_down,color=\"red\", linewidth=1, linestyle=\"--\")\n",
    "       \n",
    "        i = i+1\n",
    "        \n",
    "    contador_alertas = np.zeros(len(analisis.columns))\n",
    "    j = 0\n",
    "    valor_max = vector_up[0]\n",
    "    valor_min = vector_down[0]\n",
    "\n",
    "    for col in analisis:\n",
    "\n",
    "        auxiliar = analisis[col].to_numpy()\n",
    "        if j != limite-1:\n",
    "\n",
    "\n",
    "            for i in range(len(auxiliar)):\n",
    "\n",
    "                if auxiliar[i] <0.05:\n",
    "\n",
    "                    contador_alertas[j] = contador_alertas[j]+1\n",
    "        else:\n",
    "\n",
    "            for i in range(len(auxiliar)):\n",
    "\n",
    "                if auxiliar[i]> valor_max or auxiliar[i]<valor_min:\n",
    "                    contador_alertas[j] = contador_alertas[j]+1\n",
    "\n",
    "\n",
    "\n",
    "        j = j+1\n",
    "\n",
    "    plt.figure(figsize=(tamaño, 7))\n",
    "    plt.suptitle('INFORME DE ALERTAS')\n",
    "\n",
    "    fig = plt.bar(analisis.columns, contador_alertas)  "
   ]
  },
  {
   "cell_type": "markdown",
   "id": "9866590b",
   "metadata": {},
   "source": [
    "Caso 2"
   ]
  },
  {
   "cell_type": "code",
   "execution_count": 15,
   "id": "8bcf263e",
   "metadata": {},
   "outputs": [
    {
     "data": {
      "image/png": "[encoded data removed]",
      "text/plain": [
       "<Figure size 864x1080 with 3 Axes>"
      ]
     },
     "metadata": {
      "needs_background": "light"
     },
     "output_type": "display_data"
    },
    {
     "data": {
      "image/png": "[encoded data removed]",
      "text/plain": [
       "<Figure size 1080x504 with 1 Axes>"
      ]
     },
     "metadata": {
      "needs_background": "light"
     },
     "output_type": "display_data"
    }
   ],
   "source": [
    "if case_flag == 2:\n",
    "    tamaño = 5*(len(lista_tipos_de_datos)+1)\n",
    "    \n",
    "    fig, axs = plt.subplots(len(lista_tipos_de_datos)+1, 1)\n",
    "    fig.set_figheight(tamaño)\n",
    "    fig.set_figwidth(12)\n",
    "    vector_p_valor = np.linspace(0.05,0.05,ndc)\n",
    "\n",
    "    i = 0\n",
    "    x_points = np.linspace(1,ndc ,ndc )\n",
    "    limite = len(analisis.columns) \n",
    "\n",
    "\n",
    "    for col in analisis:\n",
    "        axs[i].plot(x_points,analisis[col].to_numpy(),color=np.random.rand(3,), linewidth=2, linestyle=\"-\",marker='s')\n",
    "        axs[i].set_title(col)\n",
    "        axs[i].plot(x_points,vector_p_valor,color=\"red\", linewidth=1, linestyle=\"--\")\n",
    "        \n",
    "        i = i+1\n",
    "    \n",
    "    contador_alertas = np.zeros(len(analisis.columns))\n",
    "    j = 0\n",
    "\n",
    "\n",
    "    for col in analisis:\n",
    "\n",
    "        auxiliar = analisis[col].to_numpy()\n",
    "        for i in range(len(auxiliar)):\n",
    "            if auxiliar[i] <0.05:\n",
    "                contador_alertas[j] = contador_alertas[j]+1\n",
    "\n",
    "\n",
    "\n",
    "        j = j+1\n",
    "\n",
    "    plt.figure(figsize=(tamaño, 7))\n",
    "    plt.suptitle('INFORME DE ALERTAS')\n",
    "\n",
    "    fig = plt.bar(analisis.columns, contador_alertas) "
   ]
  },
  {
   "cell_type": "code",
   "execution_count": null,
   "id": "d67016d3",
   "metadata": {},
   "outputs": [],
   "source": []
  },
  {
   "cell_type": "code",
   "execution_count": null,
   "id": "ac58dd6d",
   "metadata": {},
   "outputs": [],
   "source": []
  }
 ],
 "metadata": {
  "kernelspec": {
   "display_name": "Python 3 (ipykernel)",
   "language": "python",
   "name": "python3"
  },
  "language_info": {
   "codemirror_mode": {
    "name": "ipython",
    "version": 3
   },
   "file_extension": ".py",
   "mimetype": "text/x-python",
   "name": "python",
   "nbconvert_exporter": "python",
   "pygments_lexer": "ipython3",
   "version": "3.9.7"
  }
 },
 "nbformat": 4,
 "nbformat_minor": 5
}
